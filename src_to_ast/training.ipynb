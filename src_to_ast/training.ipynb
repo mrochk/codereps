{
 "cells": [
  {
   "cell_type": "markdown",
   "id": "1a481178",
   "metadata": {},
   "source": [
    "***This code was tested and made on [Kaggle](https://www.kaggle.com/) using a P100 GPU.***"
   ]
  },
  {
   "cell_type": "code",
   "execution_count": null,
   "id": "cf2b902e",
   "metadata": {},
   "outputs": [],
   "source": [
    "# uncomment to install the required dependencies\n",
    "# ! pip install -U torch datasets transformers tokenizers huggingface_hub pycommremover tqdm"
   ]
  },
  {
   "cell_type": "code",
   "execution_count": 6,
   "id": "cd465303",
   "metadata": {
    "execution": {
     "iopub.execute_input": "2024-06-24T20:24:07.499363Z",
     "iopub.status.busy": "2024-06-24T20:24:07.499083Z",
     "iopub.status.idle": "2024-06-24T20:24:22.836902Z",
     "shell.execute_reply": "2024-06-24T20:24:22.836087Z",
     "shell.execute_reply.started": "2024-06-24T20:24:07.499337Z"
    }
   },
   "outputs": [
    {
     "data": {
      "application/vnd.jupyter.widget-view+json": {
       "model_id": "f3a2c9de3ff74913a0e01836960d87bf",
       "version_major": 2,
       "version_minor": 0
      },
      "text/plain": [
       "Downloading readme:   0%|          | 0.00/518 [00:00<?, ?B/s]"
      ]
     },
     "metadata": {},
     "output_type": "display_data"
    },
    {
     "data": {
      "application/vnd.jupyter.widget-view+json": {
       "model_id": "98311747676e4531b582ddab8aeff732",
       "version_major": 2,
       "version_minor": 0
      },
      "text/plain": [
       "Downloading data:   0%|          | 0.00/442M [00:00<?, ?B/s]"
      ]
     },
     "metadata": {},
     "output_type": "display_data"
    },
    {
     "data": {
      "application/vnd.jupyter.widget-view+json": {
       "model_id": "74cafbd6c81340e38c77892f673fc91a",
       "version_major": 2,
       "version_minor": 0
      },
      "text/plain": [
       "Downloading data:   0%|          | 0.00/25.0M [00:00<?, ?B/s]"
      ]
     },
     "metadata": {},
     "output_type": "display_data"
    },
    {
     "data": {
      "application/vnd.jupyter.widget-view+json": {
       "model_id": "44d22d2fe55f43668fd3452ec3eec235",
       "version_major": 2,
       "version_minor": 0
      },
      "text/plain": [
       "Downloading data:   0%|          | 0.00/24.3M [00:00<?, ?B/s]"
      ]
     },
     "metadata": {},
     "output_type": "display_data"
    },
    {
     "data": {
      "application/vnd.jupyter.widget-view+json": {
       "model_id": "76c4cb230f3746e9afc43cb93c38d206",
       "version_major": 2,
       "version_minor": 0
      },
      "text/plain": [
       "Generating train split:   0%|          | 0/278620 [00:00<?, ? examples/s]"
      ]
     },
     "metadata": {},
     "output_type": "display_data"
    },
    {
     "data": {
      "application/vnd.jupyter.widget-view+json": {
       "model_id": "ec05f6e42b07473b9d10b96e15519275",
       "version_major": 2,
       "version_minor": 0
      },
      "text/plain": [
       "Generating validation split:   0%|          | 0/15566 [00:00<?, ? examples/s]"
      ]
     },
     "metadata": {},
     "output_type": "display_data"
    },
    {
     "data": {
      "application/vnd.jupyter.widget-view+json": {
       "model_id": "425753968254431a8222f712f5cd0339",
       "version_major": 2,
       "version_minor": 0
      },
      "text/plain": [
       "Generating test split:   0%|          | 0/15169 [00:00<?, ? examples/s]"
      ]
     },
     "metadata": {},
     "output_type": "display_data"
    },
    {
     "name": "stdout",
     "output_type": "stream",
     "text": [
      "DatasetDict({\n",
      "    train: Dataset({\n",
      "        features: ['src', 'cfg', 'ast'],\n",
      "        num_rows: 278620\n",
      "    })\n",
      "    validation: Dataset({\n",
      "        features: ['src', 'cfg', 'ast'],\n",
      "        num_rows: 15566\n",
      "    })\n",
      "    test: Dataset({\n",
      "        features: ['src', 'cfg', 'ast'],\n",
      "        num_rows: 15169\n",
      "    })\n",
      "})\n",
      "def findArgs(args, prefixes):\n",
      "\t\t\"\"\"\n",
      "\t\tExtracts the list of arguments that start with any of the specified prefix values\n",
      "\t\t\"\"\"\n",
      "\t\treturn list([\n",
      "\t\t\targ for arg in args\n",
      "\t\t\tif len([p for p in prefixes if arg.lower().startswith(p.lower())]) > 0\n",
      "\t\t])\n"
     ]
    }
   ],
   "source": [
    "# load the dataset\n",
    "\n",
    "import datasets\n",
    "from datasets import load_dataset\n",
    "\n",
    "dataset = load_dataset('mrochk/src_ast_cfg')\n",
    "\n",
    "print(dataset)\n",
    "print(dataset['train'][0]['src'])"
   ]
  },
  {
   "cell_type": "code",
   "execution_count": 7,
   "id": "1c2cc885",
   "metadata": {
    "execution": {
     "iopub.execute_input": "2024-06-24T20:24:22.839346Z",
     "iopub.status.busy": "2024-06-24T20:24:22.839069Z",
     "iopub.status.idle": "2024-06-24T20:25:53.167197Z",
     "shell.execute_reply": "2024-06-24T20:25:53.166310Z",
     "shell.execute_reply.started": "2024-06-24T20:24:22.839321Z"
    }
   },
   "outputs": [
    {
     "data": {
      "application/vnd.jupyter.widget-view+json": {
       "model_id": "3f8e5c136b7c4c56bd02ffe4818c8502",
       "version_major": 2,
       "version_minor": 0
      },
      "text/plain": [
       "Map:   0%|          | 0/278620 [00:00<?, ? examples/s]"
      ]
     },
     "metadata": {},
     "output_type": "display_data"
    },
    {
     "data": {
      "application/vnd.jupyter.widget-view+json": {
       "model_id": "f681f55fa0554786be0152514a07d067",
       "version_major": 2,
       "version_minor": 0
      },
      "text/plain": [
       "Map:   0%|          | 0/15169 [00:00<?, ? examples/s]"
      ]
     },
     "metadata": {},
     "output_type": "display_data"
    },
    {
     "data": {
      "application/vnd.jupyter.widget-view+json": {
       "model_id": "81fa5d019a804a0aba176eee23e5243a",
       "version_major": 2,
       "version_minor": 0
      },
      "text/plain": [
       "Map:   0%|          | 0/15566 [00:00<?, ? examples/s]"
      ]
     },
     "metadata": {},
     "output_type": "display_data"
    },
    {
     "name": "stdout",
     "output_type": "stream",
     "text": [
      "def findArgs(args, prefixes):\n",
      "\t\t\n",
      "\t\treturn list([\n",
      "\t\t\targ for arg in args\n",
      "\t\t\tif len([p for p in prefixes if arg.lower().startswith(p.lower())]) > 0\n",
      "\t\t])\n"
     ]
    }
   ],
   "source": [
    "# remove the comments from the functions and set labels to 0\n",
    "\n",
    "from pycommremover import remove_comments\n",
    "\n",
    "def f(sample:dict):\n",
    "    \"\"\"\n",
    "    Remove the comments and set every label to 0.\n",
    "    \"\"\"\n",
    "    sample['src'] = remove_comments(sample['src'])\n",
    "    sample['label'] = 0\n",
    "    return sample\n",
    "\n",
    "train = dataset['train'].map(f)\n",
    "test = dataset['test'].map(f)\n",
    "validation = dataset['validation'].map(f)\n",
    "\n",
    "print(train[0]['src'])"
   ]
  },
  {
   "cell_type": "code",
   "execution_count": 8,
   "id": "502c489e",
   "metadata": {
    "execution": {
     "iopub.execute_input": "2024-06-24T20:25:53.169120Z",
     "iopub.status.busy": "2024-06-24T20:25:53.168682Z",
     "iopub.status.idle": "2024-06-24T20:25:54.761809Z",
     "shell.execute_reply": "2024-06-24T20:25:54.760785Z",
     "shell.execute_reply.started": "2024-06-24T20:25:53.169085Z"
    }
   },
   "outputs": [],
   "source": [
    "# now, we want to shuffle the dataset by exchanging\n",
    "# ASTs randomly between samples: if we performed\n",
    "# an exchange, we set the label to 1, otherwise 0\n",
    "\n",
    "import torch\n",
    "from tqdm import tqdm\n",
    "\n",
    "def shuffle(dataset:datasets.dataset_dict.DatasetDict, percentage:float=0.5):\n",
    "    \"\"\"\n",
    "    Shuffle dataset by exchanging ASTs.\n",
    "    \"\"\"\n",
    "    asts   = dataset.data['ast'].to_pylist()\n",
    "    srcs   = dataset.data['src'].to_pylist()\n",
    "    labels = dataset.data['label'].to_pylist()\n",
    "\n",
    "    # when we replace an ast we include the correct one\n",
    "    # to be able to analyze the model's errors later\n",
    "    asts_correct = ['' for _ in asts]\n",
    "\n",
    "    # we exchange each ast at most once\n",
    "    exchanged    = [False for _ in asts]\n",
    "\n",
    "    length = len(dataset)\n",
    "\n",
    "    # number of swaps to perform to shuffle the required percentage\n",
    "    n_swaps = int(length * percentage) // 2\n",
    "\n",
    "    print(f'Dataset length: {length}.')\n",
    "    print(f'nPairs to swap: {n_swaps}...')\n",
    "\n",
    "    n_swapped = 0\n",
    "\n",
    "    for _ in range(n_swaps):\n",
    "        # select 2 random rows that have not been exchanged before\n",
    "        while True:\n",
    "            \n",
    "            row1 = torch.randint(low=0, high=length, size=(1,))\n",
    "            row2 = torch.randint(low=0, high=length, size=(1,))\n",
    "            \n",
    "            condition = (not exchanged[row1]) and (not(exchanged[row2]))\n",
    "\n",
    "            if condition: break\n",
    "            \n",
    "        if row1 == row2: continue # rows must be different\n",
    "\n",
    "        ast1, ast2 = asts[row1], asts[row2]\n",
    "\n",
    "        if ast1 == ast2: continue # asts must be different\n",
    "            \n",
    "        asts_correct[row1], asts_correct[row2] = ast1, ast2\n",
    "\n",
    "        # performin the exchange\n",
    "        asts[row1], asts[row2] = ast2, ast1\n",
    "\n",
    "        # since we modified these rows we set their labels to 1\n",
    "        labels[row1] = labels[row2] = 1\n",
    "\n",
    "        # same for the list tracking the exchanged samples\n",
    "        exchanged[row1] = exchanged[row2] = True\n",
    "\n",
    "        n_swapped += 1\n",
    "\n",
    "    print(f'nPairs swapped: {n_swapped}.')\n",
    "\n",
    "    # building the new dataset\n",
    "    new_dataset = [{'src':srcs[i], 'ast': asts[i], 'ast_correct': asts_correct[i], 'label':labels[i]} for i in range(length)]\n",
    "\n",
    "    # converting it to a proper HuggingFace dataset and returning it\n",
    "    return datasets.Dataset.from_list(new_dataset)\n",
    "\n",
    "def count_ones(dataset:datasets.dataset_dict.DatasetDict):\n",
    "    \"\"\"\n",
    "    Simple function to verify that a dataset was properly shuffled.\n",
    "    \"\"\"\n",
    "    ones = 0\n",
    "    for sample in tqdm(dataset):\n",
    "        if sample['label'] == 1: ones +=1\n",
    "    return ones"
   ]
  },
  {
   "cell_type": "code",
   "execution_count": 9,
   "id": "8571ddce",
   "metadata": {
    "execution": {
     "iopub.execute_input": "2024-06-24T20:25:54.763496Z",
     "iopub.status.busy": "2024-06-24T20:25:54.763178Z",
     "iopub.status.idle": "2024-06-24T20:26:22.421151Z",
     "shell.execute_reply": "2024-06-24T20:26:22.420014Z",
     "shell.execute_reply.started": "2024-06-24T20:25:54.763470Z"
    }
   },
   "outputs": [
    {
     "name": "stdout",
     "output_type": "stream",
     "text": [
      "Dataset length: 278620.\n",
      "nPairs to swap: 69655...\n",
      "nPairs swapped: 69655.\n",
      "\n",
      "Dataset length: 15169.\n",
      "nPairs to swap: 3792...\n",
      "nPairs swapped: 3792.\n",
      "\n",
      "Dataset length: 15566.\n",
      "nPairs to swap: 3891...\n",
      "nPairs swapped: 3891.\n"
     ]
    },
    {
     "name": "stderr",
     "output_type": "stream",
     "text": [
      "100%|██████████| 278620/278620 [00:16<00:00, 16738.84it/s]\n",
      "100%|██████████| 15169/15169 [00:00<00:00, 16579.54it/s]\n",
      "100%|██████████| 15566/15566 [00:00<00:00, 16306.31it/s]"
     ]
    },
    {
     "name": "stdout",
     "output_type": "stream",
     "text": [
      "Train: 50%.\n",
      "Test: 50%.\n",
      "Validation: 50%.\n"
     ]
    },
    {
     "name": "stderr",
     "output_type": "stream",
     "text": [
      "\n"
     ]
    }
   ],
   "source": [
    "train = shuffle(train, .5); print()\n",
    "test = shuffle(test, .5); print()\n",
    "validation = shuffle(validation, .5)\n",
    "\n",
    "ones_train = count_ones(train)\n",
    "ones_test  = count_ones(test)\n",
    "ones_val   = count_ones(validation)\n",
    "\n",
    "print(f'Train: {ones_train * 100 / len(train):.0f}%.')\n",
    "print(f'Test: {ones_test * 100 / len(test):.0f}%.')\n",
    "print(f'Validation: {ones_val * 100 / len(validation):.0f}%.')"
   ]
  },
  {
   "cell_type": "code",
   "execution_count": null,
   "id": "0b4c1f0d",
   "metadata": {},
   "outputs": [],
   "source": [
    "from transformers import AutoTokenizer\n",
    "from tokenizers import Tokenizer\n",
    "\n",
    "tokenizer_src = AutoTokenizer.from_pretrained(\n",
    "    'huggingface/CodeBERTa-small-v1', \n",
    "    model_max_length=None, \n",
    "    force_download=True,\n",
    ")\n",
    "\n",
    "tokenizer_ast = Tokenizer.from_file(\n",
    "    '/kaggle/input/tokenizer-ast-5000/tokenizer_ast_5000.json'\n",
    ")\n",
    "\n",
    "src = train[0]['src']\n",
    "ast = train[0]['ast']\n",
    "\n",
    "tokenizer_src_vocabsize = len(tokenizer_src.get_vocab())\n",
    "tokenizer_ast_vocabsize = tokenizer_ast.get_vocab_size()\n",
    "\n",
    "print(f'Vocabsize tokenizer SRC: {tokenizer_src_vocabsize}.')\n",
    "print(f'Vocabsize tokenizer AST: {tokenizer_ast_vocabsize}.')"
   ]
  },
  {
   "cell_type": "code",
   "execution_count": 11,
   "id": "c0568525",
   "metadata": {
    "execution": {
     "iopub.execute_input": "2024-06-24T20:26:27.604466Z",
     "iopub.status.busy": "2024-06-24T20:26:27.604207Z",
     "iopub.status.idle": "2024-06-24T20:30:07.947206Z",
     "shell.execute_reply": "2024-06-24T20:30:07.946259Z",
     "shell.execute_reply.started": "2024-06-24T20:26:27.604443Z"
    }
   },
   "outputs": [
    {
     "name": "stderr",
     "output_type": "stream",
     "text": [
      "100%|██████████| 278620/278620 [03:40<00:00, 1265.06it/s]\n"
     ]
    },
    {
     "name": "stdout",
     "output_type": "stream",
     "text": [
      "Average SRC length: 151.64; Mean + 2*stdev: 514.36.\n",
      "Average AST length: 13.63; Mean + 2*stdev: 45.07.\n"
     ]
    }
   ],
   "source": [
    "# before creating the dataset, we need to know what sequence lengths to set\n",
    "\n",
    "len_srcs, len_asts = [], []\n",
    "\n",
    "for sample in tqdm(train):\n",
    "    len_src = len(tokenizer_src.encode(sample['src']))\n",
    "    len_ast = len(tokenizer_ast.encode(sample['ast']).ids)\n",
    "\n",
    "    len_srcs.append(len_src)\n",
    "    len_asts.append(len_ast)\n",
    "\n",
    "len_srcs = torch.tensor(len_srcs, dtype=torch.float)\n",
    "len_asts = torch.tensor(len_asts, dtype=torch.float)\n",
    "\n",
    "mean_src = len_srcs.mean()\n",
    "std_src  = len_srcs.std()\n",
    "\n",
    "mean_ast = len_asts.mean()\n",
    "std_ast  = len_asts.std()\n",
    "\n",
    "print(f'Average SRC length: {mean_src:.2f}; Mean + 2*stdev: {mean_src + 2*std_src:.2f}.')\n",
    "print(f'Average AST length: {mean_ast:.2f}; Mean + 2*stdev: {mean_ast + 2*std_ast:.2f}.')"
   ]
  },
  {
   "cell_type": "code",
   "execution_count": 12,
   "id": "d69ba04c",
   "metadata": {
    "execution": {
     "iopub.execute_input": "2024-06-24T20:30:07.948519Z",
     "iopub.status.busy": "2024-06-24T20:30:07.948255Z",
     "iopub.status.idle": "2024-06-24T20:33:47.419687Z",
     "shell.execute_reply": "2024-06-24T20:33:47.418776Z",
     "shell.execute_reply.started": "2024-06-24T20:30:07.948496Z"
    }
   },
   "outputs": [
    {
     "name": "stderr",
     "output_type": "stream",
     "text": [
      "100%|██████████| 278620/278620 [03:39<00:00, 1269.57it/s]"
     ]
    },
    {
     "name": "stdout",
     "output_type": "stream",
     "text": [
      "Percentage of asts s.t ast <= 50: 97%.\n",
      "Percentage of srcs s.t src <= 550: 97%.\n"
     ]
    },
    {
     "name": "stderr",
     "output_type": "stream",
     "text": [
      "\n"
     ]
    }
   ],
   "source": [
    "# it seems like 550 and 50 are good thresholds for our seq_lengths, \n",
    "# let's verify that most values fall inside these ranges\n",
    "\n",
    "seq_len_src = 550\n",
    "seq_len_ast = 50\n",
    "\n",
    "count_ast = count_src = 0\n",
    "for sample in tqdm(train):\n",
    "    \n",
    "    len_src = len(tokenizer_src.encode(sample['src']))\n",
    "    if len_src <= seq_len_src: count_src += 1\n",
    "\n",
    "    len_ast = len(tokenizer_ast.encode(sample['ast']).ids)\n",
    "    if len_ast <= seq_len_ast: count_ast += 1\n",
    "\n",
    "print(f'Percentage of asts s.t ast <= {seq_len_ast}: {int(count_ast * 100 / len(train))}%.')\n",
    "print(f'Percentage of srcs s.t src <= {seq_len_src}: {int(count_src * 100 / len(train))}%.')"
   ]
  },
  {
   "cell_type": "code",
   "execution_count": 13,
   "id": "7b0f8edb",
   "metadata": {
    "execution": {
     "iopub.execute_input": "2024-06-24T20:33:47.423377Z",
     "iopub.status.busy": "2024-06-24T20:33:47.423087Z",
     "iopub.status.idle": "2024-06-24T20:33:47.434667Z",
     "shell.execute_reply": "2024-06-24T20:33:47.433665Z",
     "shell.execute_reply.started": "2024-06-24T20:33:47.423351Z"
    }
   },
   "outputs": [],
   "source": [
    "# we can now create the pytorch datasets\n",
    "\n",
    "from torch.utils.data import Dataset, DataLoader\n",
    "\n",
    "class SRC_AST_Dataset(Dataset):\n",
    "    def __init__(\n",
    "        self, \n",
    "        split, # the huggingface dataset split\n",
    "        tokenizer_src=tokenizer_src,\n",
    "        tokenizer_ast=tokenizer_ast,\n",
    "        seq_len_src=seq_len_src,\n",
    "        seq_len_ast=seq_len_ast,\n",
    "    ):\n",
    "        \n",
    "        self.dataset = split\n",
    "\n",
    "        self.seq_len_src = seq_len_src\n",
    "        self.seq_len_ast = seq_len_ast\n",
    "\n",
    "        self.tokenizer_src = tokenizer_src\n",
    "        self.tokenizer_ast = tokenizer_ast\n",
    "\n",
    "        self.cls_token_src = tokenizer_src.cls_token_id\n",
    "        self.cls_token_ast = tokenizer_ast.token_to_id('[CLS]')\n",
    "\n",
    "        self.pad_token_src = tokenizer_src.pad_token_id\n",
    "        self.pad_token_ast = tokenizer_ast.token_to_id('[PAD]')\n",
    "\n",
    "    def __len__(self): return len(self.dataset)\n",
    "\n",
    "    def __getitem__(self, index):\n",
    "        row = self.dataset[index]\n",
    "        src, ast, label = row['src'], row['ast'], row['label']\n",
    "\n",
    "        input_tokens_src = [self.cls_token_src] + self.tokenizer_src.encode(src)\n",
    "        input_tokens_ast = [self.cls_token_ast] + self.tokenizer_ast.encode(ast).ids\n",
    "\n",
    "        n_pad_tokens_src = self.seq_len_src - len(input_tokens_src)\n",
    "        n_pad_tokens_ast = self.seq_len_ast - len(input_tokens_ast)\n",
    "        \n",
    "        if n_pad_tokens_src >= 0: # we add padding tokens if needed\n",
    "            input_tokens_src = input_tokens_src + ([self.pad_token_src] * n_pad_tokens_src)\n",
    "        else: # the sequence is larger than the max seq length\n",
    "            input_tokens_src = input_tokens_src[:self.seq_len_src] # we crop it\n",
    "\n",
    "        if n_pad_tokens_ast >= 0: # we add padding tokens if needed\n",
    "            input_tokens_ast = input_tokens_ast + ([self.pad_token_ast] * n_pad_tokens_ast)\n",
    "        else: # the sequence is larger than the max seq length\n",
    "            input_tokens_ast = input_tokens_ast[:self.seq_len_ast] # we crop it\n",
    "\n",
    "        return {\n",
    "            'input_tokens_src': torch.tensor(input_tokens_src, dtype=torch.int64),\n",
    "            'input_tokens_ast': torch.tensor(input_tokens_ast, dtype=torch.int64),\n",
    "            'label': torch.tensor(label, dtype=torch.float).unsqueeze(-1)\n",
    "        }"
   ]
  },
  {
   "cell_type": "code",
   "execution_count": 14,
   "id": "0d7984ff",
   "metadata": {
    "execution": {
     "iopub.execute_input": "2024-06-24T20:33:47.436094Z",
     "iopub.status.busy": "2024-06-24T20:33:47.435763Z",
     "iopub.status.idle": "2024-06-24T20:33:47.451960Z",
     "shell.execute_reply": "2024-06-24T20:33:47.451033Z",
     "shell.execute_reply.started": "2024-06-24T20:33:47.436070Z"
    }
   },
   "outputs": [
    {
     "name": "stdout",
     "output_type": "stream",
     "text": [
      "torch.Size([550])\n",
      "torch.Size([50])\n",
      "torch.Size([1])\n"
     ]
    }
   ],
   "source": [
    "ds_train = SRC_AST_Dataset(train, tokenizer_src, tokenizer_ast)\n",
    "ds_test = SRC_AST_Dataset(test, tokenizer_src, tokenizer_ast)\n",
    "ds_validation = SRC_AST_Dataset(validation, tokenizer_src, tokenizer_ast)\n",
    "\n",
    "print(ds_train[0]['input_tokens_src'].shape)\n",
    "print(ds_train[0]['input_tokens_ast'].shape)\n",
    "print(ds_train[0]['label'].shape)"
   ]
  },
  {
   "cell_type": "code",
   "execution_count": 15,
   "id": "17c82c23",
   "metadata": {
    "execution": {
     "iopub.execute_input": "2024-06-24T20:33:47.453379Z",
     "iopub.status.busy": "2024-06-24T20:33:47.453107Z",
     "iopub.status.idle": "2024-06-24T20:33:47.461815Z",
     "shell.execute_reply": "2024-06-24T20:33:47.461034Z",
     "shell.execute_reply.started": "2024-06-24T20:33:47.453356Z"
    }
   },
   "outputs": [],
   "source": [
    "# the positional encoding as in Attention Is All You Need\n",
    "\n",
    "from torch import nn\n",
    "import math\n",
    "\n",
    "class PositionalEncoding(nn.Module):\n",
    "    def __init__(self, d_model:int, seq_len:int, dropout:float=0.1):\n",
    "        super().__init__()\n",
    "\n",
    "        self.dropout = nn.Dropout(dropout)\n",
    "\n",
    "        position = torch.arange(seq_len, dtype=torch.float).unsqueeze(1)\n",
    "\n",
    "        div_term = torch.exp(torch.arange(0, d_model, 2).float() * (-math.log(10_000.0) / d_model))\n",
    "\n",
    "        pe = torch.zeros(seq_len, d_model)\n",
    "\n",
    "        pe[:, 0::2] = torch.sin(position * div_term)\n",
    "        pe[:, 1::2] = torch.cos(position * div_term)\n",
    "\n",
    "        pe = pe.unsqueeze(0)\n",
    "\n",
    "        self.register_buffer('pe', pe)\n",
    "\n",
    "    def forward(self, x):\n",
    "        x = x + (self.pe[:, :x.shape[1], :]).requires_grad_(False)\n",
    "        return self.dropout(x)"
   ]
  },
  {
   "cell_type": "code",
   "execution_count": 16,
   "id": "df8b6b93",
   "metadata": {
    "execution": {
     "iopub.execute_input": "2024-06-24T20:33:47.463095Z",
     "iopub.status.busy": "2024-06-24T20:33:47.462805Z",
     "iopub.status.idle": "2024-06-24T20:33:47.485529Z",
     "shell.execute_reply": "2024-06-24T20:33:47.484716Z",
     "shell.execute_reply.started": "2024-06-24T20:33:47.463072Z"
    }
   },
   "outputs": [
    {
     "name": "stdout",
     "output_type": "stream",
     "text": [
      "torch.Size([2, 50])\n",
      "torch.Size([2, 50, 4])\n"
     ]
    },
    {
     "data": {
      "text/plain": [
       "torch.Size([2, 50, 4])"
      ]
     },
     "execution_count": 16,
     "metadata": {},
     "output_type": "execute_result"
    }
   ],
   "source": [
    "# testing\n",
    "\n",
    "dl = DataLoader(ds_test, batch_size=2)\n",
    "\n",
    "eg = next(iter(dl))\n",
    "\n",
    "asts = eg['input_tokens_ast']\n",
    "print(asts.shape)\n",
    "\n",
    "emb = nn.Embedding(tokenizer_ast.get_vocab_size(), 4)\n",
    "emb_asts = emb(asts)\n",
    "\n",
    "print(emb_asts.shape)\n",
    "\n",
    "pe = PositionalEncoding(4, 70)\n",
    "out = pe(emb_asts)\n",
    "out.shape"
   ]
  },
  {
   "cell_type": "code",
   "execution_count": 17,
   "id": "55877cbd",
   "metadata": {
    "execution": {
     "iopub.execute_input": "2024-06-24T20:33:47.487382Z",
     "iopub.status.busy": "2024-06-24T20:33:47.486781Z",
     "iopub.status.idle": "2024-06-24T20:33:47.495572Z",
     "shell.execute_reply": "2024-06-24T20:33:47.494528Z",
     "shell.execute_reply.started": "2024-06-24T20:33:47.487350Z"
    }
   },
   "outputs": [],
   "source": [
    "# creating the transformer encoder module\n",
    "\n",
    "class Encoder(nn.Module):\n",
    "    def __init__(\n",
    "        self,\n",
    "        vocab_size:int,  # tokenizer vocab size\n",
    "        seq_len:int,     # sequence length in our batch\n",
    "        pad_token:int,   # token used for padding\n",
    "        nlayers:int=8,   # number of layers\n",
    "        nheads:int=8,    # number of attention heads\n",
    "        d_model:int=512, # embedding size for each token & also dimension of output\n",
    "        d_ff:int=2048,   # ffn hidden layer size\n",
    "        ):\n",
    "\n",
    "        super().__init__()\n",
    "\n",
    "        self.pad_token = pad_token\n",
    "\n",
    "        self.input_embedding = nn.Embedding(\n",
    "            num_embeddings=vocab_size,\n",
    "            embedding_dim=d_model,\n",
    "        )\n",
    "\n",
    "        self.positional_encoding = PositionalEncoding(\n",
    "            d_model=d_model,\n",
    "            seq_len=seq_len,\n",
    "        )\n",
    "\n",
    "        encoder_layer = nn.TransformerEncoderLayer(\n",
    "            d_model=d_model,\n",
    "            nhead=nheads,\n",
    "            dim_feedforward=d_ff,\n",
    "            batch_first=True,\n",
    "        )\n",
    "\n",
    "        self.encoder = nn.TransformerEncoder(\n",
    "            encoder_layer,\n",
    "            num_layers=nlayers\n",
    "        )\n",
    "\n",
    "    def forward(self, x):\n",
    "\n",
    "        x = self.input_embedding(x)\n",
    "\n",
    "        x = self.positional_encoding(x)\n",
    "\n",
    "        x = self.encoder(x)[:, 0]\n",
    "\n",
    "        return x"
   ]
  },
  {
   "cell_type": "code",
   "execution_count": 18,
   "id": "72fbf225",
   "metadata": {
    "execution": {
     "iopub.execute_input": "2024-06-24T20:33:47.497211Z",
     "iopub.status.busy": "2024-06-24T20:33:47.496726Z",
     "iopub.status.idle": "2024-06-24T20:33:47.653972Z",
     "shell.execute_reply": "2024-06-24T20:33:47.653039Z",
     "shell.execute_reply.started": "2024-06-24T20:33:47.497180Z"
    }
   },
   "outputs": [
    {
     "data": {
      "text/plain": [
       "torch.Size([2, 512])"
      ]
     },
     "execution_count": 18,
     "metadata": {},
     "output_type": "execute_result"
    }
   ],
   "source": [
    "# testing\n",
    "\n",
    "eg = next(iter(dl))\n",
    "x = eg['input_tokens_ast']\n",
    "\n",
    "enc = Encoder(\n",
    "    vocab_size=len(tokenizer_ast.get_vocab()),\n",
    "    seq_len=x.shape[1],\n",
    "    pad_token=tokenizer_ast.token_to_id('[PAD]'),\n",
    ")\n",
    "\n",
    "out = enc(x)\n",
    "out.shape"
   ]
  },
  {
   "cell_type": "code",
   "execution_count": 19,
   "id": "b5ac774e",
   "metadata": {
    "execution": {
     "iopub.execute_input": "2024-06-24T20:33:47.655449Z",
     "iopub.status.busy": "2024-06-24T20:33:47.655151Z",
     "iopub.status.idle": "2024-06-24T20:33:47.666706Z",
     "shell.execute_reply": "2024-06-24T20:33:47.665883Z",
     "shell.execute_reply.started": "2024-06-24T20:33:47.655424Z"
    }
   },
   "outputs": [],
   "source": [
    "# now we define the complete architecture of our model\n",
    "\n",
    "class SrcAstClassifier(nn.Module):\n",
    "    def __init__(\n",
    "        self,\n",
    "        vocab_size_src:int,  # vocab size of src tokenizer\n",
    "        vocab_size_ast:int,  # vocab size of cfg tokenizer\n",
    "        \n",
    "        seq_len_src:int,     # batch sequence length for src\n",
    "        seq_len_ast:int,     # batch sequence length for cfg\n",
    "        \n",
    "        pad_token_src:int,   # token used to pad src\n",
    "        pad_token_ast:int,   # token used to pad cfg\n",
    "        \n",
    "        d_model_src:int=512, # embedding size for each tokens in ast encoder\n",
    "        d_model_ast:int=512, # embedding size for each tokens in src encoder\n",
    "        \n",
    "        nlayers_src:int=8,\n",
    "        nlayers_ast:int=8,\n",
    "        \n",
    "        nheads_src:int=8,\n",
    "        nheads_ast:int=8,\n",
    "        \n",
    "        d_ff:int=2048,       # ffn hidden layer size\n",
    "        \n",
    "        d_ff_enc:int=2048,   # encoders ffn hidden layer size\n",
    "        ):\n",
    "\n",
    "        super().__init__()\n",
    "\n",
    "        # the encoder used to encode the function source code\n",
    "        self.encoder_src = Encoder(\n",
    "            vocab_size=vocab_size_src,\n",
    "            seq_len=seq_len_src,\n",
    "            pad_token=pad_token_src,\n",
    "            d_model=d_model_src,\n",
    "            d_ff=d_ff_enc,\n",
    "            nlayers=nlayers_src,\n",
    "            nheads=nheads_src,\n",
    "        )\n",
    "\n",
    "        # the encoder used to encode the function cfg\n",
    "        self.encoder_ast = Encoder(\n",
    "            vocab_size=vocab_size_ast,\n",
    "            seq_len=seq_len_ast,\n",
    "            pad_token=pad_token_ast,\n",
    "            d_model=d_model_ast,\n",
    "            d_ff=d_ff_enc,\n",
    "            nlayers=nlayers_ast,\n",
    "            nheads=nheads_ast,\n",
    "        )\n",
    "        \n",
    "        # feedforward layer\n",
    "        self.ffn = nn.Sequential(\n",
    "            nn.Linear(d_model_ast + d_model_src, d_ff),\n",
    "            nn.ReLU(),\n",
    "            nn.Linear(d_ff, 1)\n",
    "        )\n",
    "\n",
    "        # output\n",
    "        self.logistic = nn.Sigmoid()\n",
    "\n",
    "    def forward(self, src, ast):\n",
    "        \n",
    "        out_src = self.encoder_src(src)\n",
    "        out_ast = self.encoder_ast(ast)\n",
    "\n",
    "        cat = torch.cat([out_src, out_ast], dim=-1)\n",
    "\n",
    "        ffn = self.ffn(cat)\n",
    "\n",
    "        out = self.logistic(ffn)\n",
    "\n",
    "        return out"
   ]
  },
  {
   "cell_type": "code",
   "execution_count": 20,
   "id": "b0e78d4b",
   "metadata": {
    "execution": {
     "iopub.execute_input": "2024-06-24T20:33:47.668134Z",
     "iopub.status.busy": "2024-06-24T20:33:47.667773Z",
     "iopub.status.idle": "2024-06-24T20:33:48.969307Z",
     "shell.execute_reply": "2024-06-24T20:33:48.968439Z",
     "shell.execute_reply.started": "2024-06-24T20:33:47.668098Z"
    }
   },
   "outputs": [
    {
     "data": {
      "text/plain": [
       "tensor([[0.5408],\n",
       "        [0.5517]], grad_fn=<SigmoidBackward0>)"
      ]
     },
     "execution_count": 20,
     "metadata": {},
     "output_type": "execute_result"
    }
   ],
   "source": [
    "# testing \n",
    "\n",
    "eg = next(iter(dl))\n",
    "\n",
    "eg_ast = eg['input_tokens_ast']\n",
    "eg_src = eg['input_tokens_src']\n",
    "\n",
    "model = SrcAstClassifier(\n",
    "    vocab_size_src=len(tokenizer_src.get_vocab()),\n",
    "    vocab_size_ast=tokenizer_ast.get_vocab_size(),\n",
    "    seq_len_src=eg_src.shape[1],\n",
    "    seq_len_ast=eg_ast.shape[1],\n",
    "    pad_token_src=tokenizer_src.pad_token_id,\n",
    "    pad_token_ast=tokenizer_ast.token_to_id('[PAD]'),\n",
    ")\n",
    "\n",
    "model(eg_src, eg_ast)"
   ]
  },
  {
   "cell_type": "code",
   "execution_count": 21,
   "id": "60e7c489",
   "metadata": {
    "execution": {
     "iopub.execute_input": "2024-06-24T20:33:48.971112Z",
     "iopub.status.busy": "2024-06-24T20:33:48.970659Z",
     "iopub.status.idle": "2024-06-24T20:33:49.021065Z",
     "shell.execute_reply": "2024-06-24T20:33:49.020144Z",
     "shell.execute_reply.started": "2024-06-24T20:33:48.971078Z"
    }
   },
   "outputs": [
    {
     "name": "stdout",
     "output_type": "stream",
     "text": [
      "Using cuda.\n"
     ]
    }
   ],
   "source": [
    "device = 'cuda' if torch.cuda.is_available() else 'cpu'\n",
    "print(f'Using {device}.')"
   ]
  },
  {
   "cell_type": "code",
   "execution_count": 22,
   "id": "329a6d0b",
   "metadata": {
    "execution": {
     "iopub.execute_input": "2024-06-24T20:33:49.022798Z",
     "iopub.status.busy": "2024-06-24T20:33:49.022496Z",
     "iopub.status.idle": "2024-06-24T22:35:31.097881Z",
     "shell.execute_reply": "2024-06-24T22:35:31.096889Z",
     "shell.execute_reply.started": "2024-06-24T20:33:49.022752Z"
    }
   },
   "outputs": [
    {
     "name": "stderr",
     "output_type": "stream",
     "text": [
      "100%|██████████| 4354/4354 [40:33<00:00,  1.79it/s]\n"
     ]
    },
    {
     "name": "stdout",
     "output_type": "stream",
     "text": [
      "\n",
      "Epoch 1 / 3, Loss: [0.44].\n",
      "\n",
      "Model saved.\n",
      "\n"
     ]
    },
    {
     "name": "stderr",
     "output_type": "stream",
     "text": [
      "100%|██████████| 4354/4354 [40:32<00:00,  1.79it/s]\n"
     ]
    },
    {
     "name": "stdout",
     "output_type": "stream",
     "text": [
      "\n",
      "Epoch 2 / 3, Loss: [0.35].\n",
      "\n",
      "Model saved.\n",
      "\n"
     ]
    },
    {
     "name": "stderr",
     "output_type": "stream",
     "text": [
      "100%|██████████| 4354/4354 [40:31<00:00,  1.79it/s]\n"
     ]
    },
    {
     "name": "stdout",
     "output_type": "stream",
     "text": [
      "\n",
      "Epoch 3 / 3, Loss: [0.31].\n",
      "\n",
      "Model saved.\n",
      "\n",
      "\n",
      "Done.\n"
     ]
    }
   ],
   "source": [
    "# training the model\n",
    "\n",
    "from sklearn.metrics import accuracy_score\n",
    "\n",
    "eg = next(iter(dl))\n",
    "eg_ast = eg['input_tokens_ast']\n",
    "eg_src = eg['input_tokens_src']\n",
    "\n",
    "empty_cache = lambda: torch.cuda.empty_cache() if device == 'cuda' else None\n",
    "empty_cache()\n",
    "\n",
    "# instantiating the transformer encoder model\n",
    "model = SrcAstClassifier(\n",
    "\n",
    "    vocab_size_src=len(tokenizer_src.get_vocab()),\n",
    "    vocab_size_ast=tokenizer_ast.get_vocab_size(),\n",
    "\n",
    "    seq_len_src=eg_src.shape[1],\n",
    "    seq_len_ast=eg_ast.shape[1],\n",
    "\n",
    "    pad_token_src=tokenizer_src.pad_token_id,\n",
    "    pad_token_ast=tokenizer_ast.token_to_id('[PAD]'),\n",
    "    \n",
    "    nheads_src=4,  # we reduce both number of heads and layers for\n",
    "    nlayers_src=3, # the src encoder because of memory limitations\n",
    "    \n",
    "    d_model_ast=256, # we reduce d_model for ASTs\n",
    "\n",
    ").to(device)\n",
    "\n",
    "# optimizer\n",
    "optim = torch.optim.Adam(model.parameters(), lr=0.0001)\n",
    "\n",
    "# loss function: binary cross entropy\n",
    "lossfunc = torch.nn.BCELoss()\n",
    "\n",
    "# batch size\n",
    "batch_size = 64\n",
    "\n",
    "# number of epochs\n",
    "epochs = 3\n",
    "\n",
    "dataset = ds_train # dataset to use\n",
    "\n",
    "# dataset -> dataloader\n",
    "batchs  = DataLoader(dataset, batch_size=batch_size)\n",
    "nbatchs = len(batchs)\n",
    "\n",
    "losses = []\n",
    "accuracies = []\n",
    "add_loss = 7 # add loss to 'losses' every 'add_loss' batchs\n",
    "\n",
    "# training loop\n",
    "for epoch in range(epochs):\n",
    "    empty_cache()\n",
    "\n",
    "    model.train() # set model in training mode\n",
    "\n",
    "    epoch_loss = 0.0\n",
    "    loss_plot  = 0.0\n",
    "\n",
    "    for i, batch in enumerate(tqdm(batchs)):\n",
    "\n",
    "        # get inputs\n",
    "        ast    = batch['input_tokens_ast'].to(device)\n",
    "        src    = batch['input_tokens_src'].to(device)\n",
    "        labels = batch['label'].to(device)\n",
    "\n",
    "        # forward\n",
    "        optim.zero_grad()\n",
    "\n",
    "        predictions = model(src, ast)\n",
    "\n",
    "        loss = lossfunc(predictions, labels)\n",
    "\n",
    "        _loss_ = loss.item()\n",
    "\n",
    "        loss_plot  += _loss_\n",
    "        epoch_loss += _loss_\n",
    "\n",
    "        if (i+1) % add_loss == 0:\n",
    "            \n",
    "            # get loss\n",
    "            losses.append(loss_plot / add_loss)\n",
    "            loss_plot = 0.0\n",
    "            \n",
    "            # get accuracy\n",
    "            model.eval()\n",
    "            \n",
    "            batch  = next(iter(batchs))\n",
    "            ast    = batch['input_tokens_ast'].to(device)\n",
    "            src    = batch['input_tokens_src'].to(device)\n",
    "            labels = batch['label'].to(device).squeeze().tolist()\n",
    "            \n",
    "            predictions = (model(src, ast).squeeze() > .5).int().tolist()\n",
    "            \n",
    "            accuracy = accuracy_score(labels, predictions)\n",
    "            accuracies.append(accuracy)\n",
    "            \n",
    "            model.train()\n",
    "\n",
    "        # backward\n",
    "        loss.backward()\n",
    "        optim.step()\n",
    "\n",
    "    # log epoch\n",
    "    print(f'\\nEpoch {epoch+1} / {epochs}, Loss: [{epoch_loss / nbatchs:.2f}].')\n",
    "\n",
    "    # save model at each epoch\n",
    "    torch.save(model, f'src_to_ast_{epoch+1}.pt'); print('\\nModel saved.\\n')\n",
    "\n",
    "print('\\nDone.')"
   ]
  },
  {
   "cell_type": "code",
   "execution_count": 26,
   "id": "ba1f0b43",
   "metadata": {
    "execution": {
     "iopub.execute_input": "2024-06-24T22:35:32.277723Z",
     "iopub.status.busy": "2024-06-24T22:35:32.277402Z",
     "iopub.status.idle": "2024-06-24T22:35:32.574767Z",
     "shell.execute_reply": "2024-06-24T22:35:32.573906Z",
     "shell.execute_reply.started": "2024-06-24T22:35:32.277683Z"
    }
   },
   "outputs": [
    {
     "data": {
      "image/png": "[encoded data removed]",
      "text/plain": [
       "<Figure size 800x600 with 1 Axes>"
      ]
     },
     "metadata": {},
     "output_type": "display_data"
    }
   ],
   "source": [
    "# plotting loss & accuracy\n",
    "\n",
    "import matplotlib.pyplot as plt\n",
    "\n",
    "xs_per_epoch = len(losses) // epochs\n",
    "\n",
    "plt.figure(figsize=(8, 6))\n",
    "\n",
    "plt.plot(losses, color='blue', label='loss')\n",
    "\n",
    "plt.plot(accuracies, color='red', label='accuracy')\n",
    "\n",
    "plt.plot([], color='black', label='epochs')\n",
    "\n",
    "plt.legend()\n",
    "\n",
    "plt.title(f'Loss & Accuracy Evolution During Training', loc='left')\n",
    "\n",
    "plt.xticks([])\n",
    "\n",
    "for e in range(1, epochs):\n",
    "    plt.axvline(x=xs_per_epoch*e, color='black')\n",
    "\n",
    "None"
   ]
  }
 ],
 "metadata": {
  "kaggle": {
   "accelerator": "gpu",
   "dataSources": [
    {
     "datasetId": 5272579,
     "sourceId": 8773279,
     "sourceType": "datasetVersion"
    }
   ],
   "dockerImageVersionId": 30733,
   "isGpuEnabled": true,
   "isInternetEnabled": true,
   "language": "python",
   "sourceType": "notebook"
  },
  "kernelspec": {
   "display_name": "Python 3 (ipykernel)",
   "language": "python",
   "name": "python3"
  },
  "language_info": {
   "codemirror_mode": {
    "name": "ipython",
    "version": 3
   },
   "file_extension": ".py",
   "mimetype": "text/x-python",
   "name": "python",
   "nbconvert_exporter": "python",
   "pygments_lexer": "ipython3",
   "version": "3.10.12"
  }
 },
 "nbformat": 4,
 "nbformat_minor": 5
}
